{
 "cells": [
  {
   "cell_type": "markdown",
   "metadata": {},
   "source": [
    "## Import Data and Libraries"
   ]
  },
  {
   "cell_type": "code",
   "execution_count": 1,
   "metadata": {},
   "outputs": [],
   "source": [
    "# standard\n",
    "import os\n",
    "import pandas as pd\n",
    "import numpy as np\n",
    "\n",
    "# sklearn - preprocessing\n",
    "from sklearn.preprocessing import OneHotEncoder\n",
    "from sklearn.preprocessing import MinMaxScaler\n",
    "from sklearn.model_selection import train_test_split\n",
    "# sklearn - models\n",
    "from sklearn.linear_model import LogisticRegression\n",
    "from sklearn.ensemble import RandomForestClassifier\n",
    "# sklearn - cross validation and hyperparameter tuning\n",
    "from sklearn.model_selection import GridSearchCV\n",
    "# sklearn - metrics\n",
    "from sklearn.metrics import roc_curve, auc, accuracy_score\n",
    "from sklearn.metrics import confusion_matrix\n",
    "# sklearn fixed random state\n",
    "rs = 7\n",
    "# xgboost\n",
    "import xgboost as xgb\n",
    "\n",
    "#plotting\n",
    "import seaborn as sn\n",
    "import matplotlib.pyplot as plt\n",
    "\n",
    "%matplotlib inline"
   ]
  },
  {
   "cell_type": "code",
   "execution_count": 2,
   "metadata": {},
   "outputs": [],
   "source": [
    "# Attribute information from https://archive.ics.uci.edu/ml/datasets/Heart+Disease\n",
    "\"\"\"\n",
    "Attribute Information:\n",
    "\n",
    "Only 14 attributes used:\n",
    "1. #3 (age) -> numerical\n",
    "2. #4 (sex) -> binary\n",
    "3. #9 (cp) -> ordinal or categorical\n",
    "4. #10 (trestbps) -> numerical\n",
    "5. #12 (chol) -> numerical\n",
    "6. #16 (fbs) -> binary\n",
    "7. #19 (restecg) -> ordinal or categorical\n",
    "8. #32 (thalach) -> numerical\n",
    "9. #38 (exang) -> binary\n",
    "10. #40 (oldpeak) -> numerical\n",
    "11. #41 (slope) -> ordinal\n",
    "12. #44 (ca) -> oridinal or numeric \n",
    "13. #51 (thal) -> ordinal or categorical\n",
    "14. #58 (num) (the predicted attribute) will transform to binary\n",
    "\"\"\"\n",
    "headers = ['age',\n",
    "          'sex',\n",
    "          'cp',\n",
    "          'trestbps',\n",
    "          'chol',\n",
    "          'fbs',\n",
    "          'restecg',\n",
    "          'thalach',\n",
    "          'exang',\n",
    "          'oldpeak',\n",
    "          'slope',\n",
    "          'ca',\n",
    "          'thal',\n",
    "          'diagnosis'\n",
    "          ]"
   ]
  },
  {
   "cell_type": "code",
   "execution_count": 3,
   "metadata": {},
   "outputs": [
    {
     "name": "stdout",
     "output_type": "stream",
     "text": [
      "the dataset has 303 patients\n"
     ]
    },
    {
     "data": {
      "text/html": [
       "<div>\n",
       "<style scoped>\n",
       "    .dataframe tbody tr th:only-of-type {\n",
       "        vertical-align: middle;\n",
       "    }\n",
       "\n",
       "    .dataframe tbody tr th {\n",
       "        vertical-align: top;\n",
       "    }\n",
       "\n",
       "    .dataframe thead th {\n",
       "        text-align: right;\n",
       "    }\n",
       "</style>\n",
       "<table border=\"1\" class=\"dataframe\">\n",
       "  <thead>\n",
       "    <tr style=\"text-align: right;\">\n",
       "      <th></th>\n",
       "      <th>age</th>\n",
       "      <th>sex</th>\n",
       "      <th>cp</th>\n",
       "      <th>trestbps</th>\n",
       "      <th>chol</th>\n",
       "      <th>fbs</th>\n",
       "      <th>restecg</th>\n",
       "      <th>thalach</th>\n",
       "      <th>exang</th>\n",
       "      <th>oldpeak</th>\n",
       "      <th>slope</th>\n",
       "      <th>ca</th>\n",
       "      <th>thal</th>\n",
       "      <th>diagnosis</th>\n",
       "    </tr>\n",
       "  </thead>\n",
       "  <tbody>\n",
       "    <tr>\n",
       "      <th>0</th>\n",
       "      <td>63.0</td>\n",
       "      <td>1.0</td>\n",
       "      <td>1.0</td>\n",
       "      <td>145.0</td>\n",
       "      <td>233.0</td>\n",
       "      <td>1.0</td>\n",
       "      <td>2.0</td>\n",
       "      <td>150.0</td>\n",
       "      <td>0.0</td>\n",
       "      <td>2.3</td>\n",
       "      <td>3.0</td>\n",
       "      <td>0.0</td>\n",
       "      <td>6.0</td>\n",
       "      <td>0</td>\n",
       "    </tr>\n",
       "    <tr>\n",
       "      <th>1</th>\n",
       "      <td>67.0</td>\n",
       "      <td>1.0</td>\n",
       "      <td>4.0</td>\n",
       "      <td>160.0</td>\n",
       "      <td>286.0</td>\n",
       "      <td>0.0</td>\n",
       "      <td>2.0</td>\n",
       "      <td>108.0</td>\n",
       "      <td>1.0</td>\n",
       "      <td>1.5</td>\n",
       "      <td>2.0</td>\n",
       "      <td>3.0</td>\n",
       "      <td>3.0</td>\n",
       "      <td>2</td>\n",
       "    </tr>\n",
       "    <tr>\n",
       "      <th>2</th>\n",
       "      <td>67.0</td>\n",
       "      <td>1.0</td>\n",
       "      <td>4.0</td>\n",
       "      <td>120.0</td>\n",
       "      <td>229.0</td>\n",
       "      <td>0.0</td>\n",
       "      <td>2.0</td>\n",
       "      <td>129.0</td>\n",
       "      <td>1.0</td>\n",
       "      <td>2.6</td>\n",
       "      <td>2.0</td>\n",
       "      <td>2.0</td>\n",
       "      <td>7.0</td>\n",
       "      <td>1</td>\n",
       "    </tr>\n",
       "    <tr>\n",
       "      <th>3</th>\n",
       "      <td>37.0</td>\n",
       "      <td>1.0</td>\n",
       "      <td>3.0</td>\n",
       "      <td>130.0</td>\n",
       "      <td>250.0</td>\n",
       "      <td>0.0</td>\n",
       "      <td>0.0</td>\n",
       "      <td>187.0</td>\n",
       "      <td>0.0</td>\n",
       "      <td>3.5</td>\n",
       "      <td>3.0</td>\n",
       "      <td>0.0</td>\n",
       "      <td>3.0</td>\n",
       "      <td>0</td>\n",
       "    </tr>\n",
       "    <tr>\n",
       "      <th>4</th>\n",
       "      <td>41.0</td>\n",
       "      <td>0.0</td>\n",
       "      <td>2.0</td>\n",
       "      <td>130.0</td>\n",
       "      <td>204.0</td>\n",
       "      <td>0.0</td>\n",
       "      <td>2.0</td>\n",
       "      <td>172.0</td>\n",
       "      <td>0.0</td>\n",
       "      <td>1.4</td>\n",
       "      <td>1.0</td>\n",
       "      <td>0.0</td>\n",
       "      <td>3.0</td>\n",
       "      <td>0</td>\n",
       "    </tr>\n",
       "  </tbody>\n",
       "</table>\n",
       "</div>"
      ],
      "text/plain": [
       "    age  sex   cp  trestbps   chol  fbs  restecg  thalach  exang  oldpeak  \\\n",
       "0  63.0  1.0  1.0     145.0  233.0  1.0      2.0    150.0    0.0      2.3   \n",
       "1  67.0  1.0  4.0     160.0  286.0  0.0      2.0    108.0    1.0      1.5   \n",
       "2  67.0  1.0  4.0     120.0  229.0  0.0      2.0    129.0    1.0      2.6   \n",
       "3  37.0  1.0  3.0     130.0  250.0  0.0      0.0    187.0    0.0      3.5   \n",
       "4  41.0  0.0  2.0     130.0  204.0  0.0      2.0    172.0    0.0      1.4   \n",
       "\n",
       "   slope   ca thal  diagnosis  \n",
       "0    3.0  0.0  6.0          0  \n",
       "1    2.0  3.0  3.0          2  \n",
       "2    2.0  2.0  7.0          1  \n",
       "3    3.0  0.0  3.0          0  \n",
       "4    1.0  0.0  3.0          0  "
      ]
     },
     "metadata": {},
     "output_type": "display_data"
    }
   ],
   "source": [
    "# Import the data\n",
    "clev_data = pd.read_csv(\"Data/processed.cleveland.data\", names=headers)\n",
    "print(\"the dataset has %d patients\" % len(clev_data[clev_data.isna()]))\n",
    "display(clev_data.head())"
   ]
  },
  {
   "cell_type": "markdown",
   "metadata": {},
   "source": [
    "## Data preprocessing"
   ]
  },
  {
   "cell_type": "markdown",
   "metadata": {},
   "source": [
    "### Data preprocessing - part 1"
   ]
  },
  {
   "cell_type": "code",
   "execution_count": 4,
   "metadata": {},
   "outputs": [
    {
     "name": "stdout",
     "output_type": "stream",
     "text": [
      "age          float64\n",
      "sex          float64\n",
      "cp           float64\n",
      "trestbps     float64\n",
      "chol         float64\n",
      "fbs          float64\n",
      "restecg      float64\n",
      "thalach      float64\n",
      "exang        float64\n",
      "oldpeak      float64\n",
      "slope        float64\n",
      "ca            object\n",
      "thal          object\n",
      "diagnosis      int64\n",
      "dtype: object\n"
     ]
    }
   ],
   "source": [
    "#Checks\n",
    "# Data types - we expect to have a mix of floats and integers\n",
    "print(clev_data.dtypes)"
   ]
  },
  {
   "cell_type": "code",
   "execution_count": 5,
   "metadata": {},
   "outputs": [
    {
     "name": "stdout",
     "output_type": "stream",
     "text": [
      "['0.0' '3.0' '2.0' '1.0' '?']\n",
      "['6.0' '3.0' '7.0' '?']\n"
     ]
    }
   ],
   "source": [
    "# Check the columns with type object\n",
    "print(clev_data['ca'].unique())\n",
    "print(clev_data['thal'].unique())"
   ]
  },
  {
   "cell_type": "code",
   "execution_count": 6,
   "metadata": {},
   "outputs": [
    {
     "data": {
      "text/plain": [
       "age          6\n",
       "sex          6\n",
       "cp           6\n",
       "trestbps     6\n",
       "chol         6\n",
       "fbs          6\n",
       "restecg      6\n",
       "thalach      6\n",
       "exang        6\n",
       "oldpeak      6\n",
       "slope        6\n",
       "ca           6\n",
       "thal         6\n",
       "diagnosis    6\n",
       "dtype: int64"
      ]
     },
     "execution_count": 6,
     "metadata": {},
     "output_type": "execute_result"
    }
   ],
   "source": [
    "# ? should be turned into nan and the data types to integers\n",
    "clev_data[clev_data['ca']=='?'] = np.nan\n",
    "clev_data[clev_data['thal']=='?'] = np.nan\n",
    "# Convert them to floats\n",
    "clev_data = clev_data.astype({'ca': 'float64', 'thal': 'float64'})\n",
    "# Now that everything is numerical, check for missing values\n",
    "clev_data.isna().sum()"
   ]
  },
  {
   "cell_type": "code",
   "execution_count": 7,
   "metadata": {},
   "outputs": [
    {
     "name": "stdout",
     "output_type": "stream",
     "text": [
      "age            int64\n",
      "sex            int64\n",
      "cp             int64\n",
      "trestbps     float64\n",
      "chol         float64\n",
      "fbs            int64\n",
      "restecg        int64\n",
      "thalach      float64\n",
      "exang          int64\n",
      "oldpeak      float64\n",
      "slope          int64\n",
      "ca           float64\n",
      "thal           int64\n",
      "diagnosis      int64\n",
      "dtype: object\n"
     ]
    }
   ],
   "source": [
    "# Given that these are only 6 observations and they are ordinal/categorical variables,\n",
    "# we'll remove these observations from the dataset\n",
    "clev_data = clev_data.dropna()\n",
    "\n",
    "# Correct the data types e.g. sex -> int\n",
    "clev_data = clev_data.astype({'age': 'int64', \n",
    "                              'sex': 'int64',\n",
    "                              'cp': 'int64',\n",
    "                              'fbs': 'int64',\n",
    "                              'exang': 'int64',\n",
    "                              'restecg': 'int64',\n",
    "                              'slope': 'int64',\n",
    "                              'thal': 'int64',\n",
    "                              'diagnosis': 'int64'\n",
    "                             })\n",
    "# Adjust data types based on the attribute description\n",
    "print(clev_data.dtypes)"
   ]
  },
  {
   "cell_type": "code",
   "execution_count": 8,
   "metadata": {},
   "outputs": [
    {
     "name": "stdout",
     "output_type": "stream",
     "text": [
      "[0 1]\n"
     ]
    }
   ],
   "source": [
    "# Tranform diagnosis into binary 0: No heart disease; 1:Heart disease (1,2,3,4)\n",
    "# Hence we'll turn this into a binary classification problem\n",
    "clev_data['diagnosis'] = clev_data['diagnosis'].map({0:0, 1:1, 2:1, 3:1, 4:1})\n",
    "# Check\n",
    "print(clev_data['diagnosis'].unique())"
   ]
  },
  {
   "cell_type": "code",
   "execution_count": 9,
   "metadata": {},
   "outputs": [],
   "source": [
    "# One hot encode nominal variables"
   ]
  },
  {
   "cell_type": "markdown",
   "metadata": {},
   "source": [
    "### Data Exploration"
   ]
  },
  {
   "cell_type": "code",
   "execution_count": 10,
   "metadata": {
    "scrolled": true
   },
   "outputs": [
    {
     "name": "stderr",
     "output_type": "stream",
     "text": [
      "C:\\Users\\leoni\\AppData\\Roaming\\Python\\Python37\\site-packages\\ipykernel_launcher.py:4: UserWarning: To output multiple subplots, the figure containing the passed axes is being cleared\n",
      "  after removing the cwd from sys.path.\n"
     ]
    },
    {
     "data": {
      "text/plain": [
       "array([[<matplotlib.axes._subplots.AxesSubplot object at 0x0000027B04C8B688>,\n",
       "        <matplotlib.axes._subplots.AxesSubplot object at 0x0000027B1A126208>,\n",
       "        <matplotlib.axes._subplots.AxesSubplot object at 0x0000027B1A155C88>,\n",
       "        <matplotlib.axes._subplots.AxesSubplot object at 0x0000027B1A18E8C8>],\n",
       "       [<matplotlib.axes._subplots.AxesSubplot object at 0x0000027B1A1C9788>,\n",
       "        <matplotlib.axes._subplots.AxesSubplot object at 0x0000027B1A202608>,\n",
       "        <matplotlib.axes._subplots.AxesSubplot object at 0x0000027B1A23D4C8>,\n",
       "        <matplotlib.axes._subplots.AxesSubplot object at 0x0000027B1A273208>],\n",
       "       [<matplotlib.axes._subplots.AxesSubplot object at 0x0000027B1A273408>,\n",
       "        <matplotlib.axes._subplots.AxesSubplot object at 0x0000027B1A2AD348>,\n",
       "        <matplotlib.axes._subplots.AxesSubplot object at 0x0000027B1A31AD88>,\n",
       "        <matplotlib.axes._subplots.AxesSubplot object at 0x0000027B1A353C08>],\n",
       "       [<matplotlib.axes._subplots.AxesSubplot object at 0x0000027B1A38DA88>,\n",
       "        <matplotlib.axes._subplots.AxesSubplot object at 0x0000027B1A3C6908>,\n",
       "        <matplotlib.axes._subplots.AxesSubplot object at 0x0000027B1A3FE708>,\n",
       "        <matplotlib.axes._subplots.AxesSubplot object at 0x0000027B1A437688>]],\n",
       "      dtype=object)"
      ]
     },
     "execution_count": 10,
     "metadata": {},
     "output_type": "execute_result"
    },
    {
     "data": {
      "image/png": "[encoded data removed]",
      "text/plain": [
       "<Figure size 1440x720 with 16 Axes>"
      ]
     },
     "metadata": {
      "needs_background": "light"
     },
     "output_type": "display_data"
    }
   ],
   "source": [
    "# Plot histograms of all the attributes\n",
    "fig = plt.figure(figsize = (20,10))\n",
    "ax = fig.gca()\n",
    "clev_data.hist(ax = ax)"
   ]
  },
  {
   "cell_type": "code",
   "execution_count": 11,
   "metadata": {},
   "outputs": [
    {
     "name": "stdout",
     "output_type": "stream",
     "text": [
      "137 patients with heart decease and 160 negatives\n"
     ]
    }
   ],
   "source": [
    "# Check for class imbalances in target variable\n",
    "# If we find class imbalances in the target we'll need to consider oversampling \n",
    "# undersampling won't be a good option since we only have 300 data points\n",
    "pos = clev_data['diagnosis'].sum()\n",
    "neg = len(clev_data) - pos\n",
    "print('%d patients with heart decease and %d negatives'%(pos, neg))"
   ]
  },
  {
   "cell_type": "code",
   "execution_count": 12,
   "metadata": {},
   "outputs": [
    {
     "data": {
      "text/plain": [
       "<matplotlib.axes._subplots.AxesSubplot at 0x27b1af4b688>"
      ]
     },
     "execution_count": 12,
     "metadata": {},
     "output_type": "execute_result"
    },
    {
     "data": {
      "image/png": "[encoded data removed]",
      "text/plain": [
       "<Figure size 1080x720 with 2 Axes>"
      ]
     },
     "metadata": {
      "needs_background": "light"
     },
     "output_type": "display_data"
    }
   ],
   "source": [
    "# Plot correlation matrix, for a few if the classifiers we'll use \n",
    "# correlation between predictors will greatly decrease their performance\n",
    "fig = plt.figure(figsize = (15,10))\n",
    "ax = fig.gca()\n",
    "plt.title('Cleveland Data - Correlation Matrix')\n",
    "sn.heatmap(clev_data.corr(), vmin=-1, vmax=1, annot=True)"
   ]
  },
  {
   "cell_type": "markdown",
   "metadata": {},
   "source": [
    "### Data preprocessing - part 2"
   ]
  },
  {
   "cell_type": "code",
   "execution_count": 13,
   "metadata": {},
   "outputs": [
    {
     "name": "stdout",
     "output_type": "stream",
     "text": [
      "60 in the test and 237 in the train set\n"
     ]
    },
    {
     "data": {
      "text/html": [
       "<div>\n",
       "<style scoped>\n",
       "    .dataframe tbody tr th:only-of-type {\n",
       "        vertical-align: middle;\n",
       "    }\n",
       "\n",
       "    .dataframe tbody tr th {\n",
       "        vertical-align: top;\n",
       "    }\n",
       "\n",
       "    .dataframe thead th {\n",
       "        text-align: right;\n",
       "    }\n",
       "</style>\n",
       "<table border=\"1\" class=\"dataframe\">\n",
       "  <thead>\n",
       "    <tr style=\"text-align: right;\">\n",
       "      <th></th>\n",
       "      <th>age</th>\n",
       "      <th>sex</th>\n",
       "      <th>cp</th>\n",
       "      <th>trestbps</th>\n",
       "      <th>chol</th>\n",
       "      <th>fbs</th>\n",
       "      <th>restecg</th>\n",
       "      <th>thalach</th>\n",
       "      <th>exang</th>\n",
       "      <th>oldpeak</th>\n",
       "      <th>slope</th>\n",
       "      <th>ca</th>\n",
       "      <th>thal</th>\n",
       "    </tr>\n",
       "  </thead>\n",
       "  <tbody>\n",
       "    <tr>\n",
       "      <th>170</th>\n",
       "      <td>70</td>\n",
       "      <td>1</td>\n",
       "      <td>3</td>\n",
       "      <td>160.0</td>\n",
       "      <td>269.0</td>\n",
       "      <td>0</td>\n",
       "      <td>0</td>\n",
       "      <td>112.0</td>\n",
       "      <td>1</td>\n",
       "      <td>2.9</td>\n",
       "      <td>2</td>\n",
       "      <td>1.0</td>\n",
       "      <td>7</td>\n",
       "    </tr>\n",
       "    <tr>\n",
       "      <th>109</th>\n",
       "      <td>39</td>\n",
       "      <td>1</td>\n",
       "      <td>4</td>\n",
       "      <td>118.0</td>\n",
       "      <td>219.0</td>\n",
       "      <td>0</td>\n",
       "      <td>0</td>\n",
       "      <td>140.0</td>\n",
       "      <td>0</td>\n",
       "      <td>1.2</td>\n",
       "      <td>2</td>\n",
       "      <td>0.0</td>\n",
       "      <td>7</td>\n",
       "    </tr>\n",
       "    <tr>\n",
       "      <th>95</th>\n",
       "      <td>52</td>\n",
       "      <td>1</td>\n",
       "      <td>4</td>\n",
       "      <td>128.0</td>\n",
       "      <td>255.0</td>\n",
       "      <td>0</td>\n",
       "      <td>0</td>\n",
       "      <td>161.0</td>\n",
       "      <td>1</td>\n",
       "      <td>0.0</td>\n",
       "      <td>1</td>\n",
       "      <td>1.0</td>\n",
       "      <td>7</td>\n",
       "    </tr>\n",
       "    <tr>\n",
       "      <th>140</th>\n",
       "      <td>59</td>\n",
       "      <td>1</td>\n",
       "      <td>2</td>\n",
       "      <td>140.0</td>\n",
       "      <td>221.0</td>\n",
       "      <td>0</td>\n",
       "      <td>0</td>\n",
       "      <td>164.0</td>\n",
       "      <td>1</td>\n",
       "      <td>0.0</td>\n",
       "      <td>1</td>\n",
       "      <td>0.0</td>\n",
       "      <td>3</td>\n",
       "    </tr>\n",
       "    <tr>\n",
       "      <th>81</th>\n",
       "      <td>53</td>\n",
       "      <td>0</td>\n",
       "      <td>4</td>\n",
       "      <td>130.0</td>\n",
       "      <td>264.0</td>\n",
       "      <td>0</td>\n",
       "      <td>2</td>\n",
       "      <td>143.0</td>\n",
       "      <td>0</td>\n",
       "      <td>0.4</td>\n",
       "      <td>2</td>\n",
       "      <td>0.0</td>\n",
       "      <td>3</td>\n",
       "    </tr>\n",
       "  </tbody>\n",
       "</table>\n",
       "</div>"
      ],
      "text/plain": [
       "     age  sex  cp  trestbps   chol  fbs  restecg  thalach  exang  oldpeak  \\\n",
       "170   70    1   3     160.0  269.0    0        0    112.0      1      2.9   \n",
       "109   39    1   4     118.0  219.0    0        0    140.0      0      1.2   \n",
       "95    52    1   4     128.0  255.0    0        0    161.0      1      0.0   \n",
       "140   59    1   2     140.0  221.0    0        0    164.0      1      0.0   \n",
       "81    53    0   4     130.0  264.0    0        2    143.0      0      0.4   \n",
       "\n",
       "     slope   ca  thal  \n",
       "170      2  1.0     7  \n",
       "109      2  0.0     7  \n",
       "95       1  1.0     7  \n",
       "140      1  0.0     3  \n",
       "81       2  0.0     3  "
      ]
     },
     "metadata": {},
     "output_type": "display_data"
    },
    {
     "data": {
      "text/plain": [
       "170    1\n",
       "109    1\n",
       "95     1\n",
       "140    0\n",
       "81     0\n",
       "Name: diagnosis, dtype: int64"
      ]
     },
     "metadata": {},
     "output_type": "display_data"
    }
   ],
   "source": [
    "# Train test splits\n",
    "# Best practice is to split the data into train, and test splits \n",
    "# But, we'll use the sklearn cross validation for hyperparameter tunning via gridsearch thus we don't need a dev set\n",
    "X = clev_data.drop(columns=['diagnosis'])\n",
    "Y = clev_data['diagnosis']\n",
    "X_train, X_test, Y_train, Y_test = train_test_split(X, Y, test_size = 0.2, random_state = rs)\n",
    "print(\"%d in the test and %d in the train set\" %(len(X_test), len(X_train)))\n",
    "display(X_train.head())\n",
    "display(Y_train.head())"
   ]
  },
  {
   "cell_type": "code",
   "execution_count": 14,
   "metadata": {},
   "outputs": [],
   "source": [
    "# Create an instance of the data set where the data are normalised (min max)\n",
    "scaler = MinMaxScaler()\n",
    "scaler.fit(X_train)\n",
    "X_train_sc = scaler.transform(X_train)\n",
    "# Note: for X_test we use the min max normaliser fitted on X_train\n",
    "X_test_sc = scaler.transform(X_test)"
   ]
  },
  {
   "cell_type": "markdown",
   "metadata": {},
   "source": [
    "## Models"
   ]
  },
  {
   "cell_type": "markdown",
   "metadata": {},
   "source": [
    "### 1. Logistic Regression"
   ]
  },
  {
   "cell_type": "code",
   "execution_count": 15,
   "metadata": {},
   "outputs": [
    {
     "name": "stdout",
     "output_type": "stream",
     "text": [
      "The train set auc of the best estimator is 0.92\n"
     ]
    }
   ],
   "source": [
    "logit = LogisticRegression(random_state=rs)\n",
    "# Try different values of the regularisation penalty\n",
    "params = {'C': [0.1, 1, 10, 100]}\n",
    "# Score roc_auc or accuracy?\n",
    "gs_logit = GridSearchCV(logit, param_grid=params, scoring='roc_auc', cv=5)\n",
    "# use scaled version of train set \n",
    "gs_logit.fit(X_train_sc, Y_train)\n",
    "print('The train set auc of the best estimator is %0.2f' % gs_logit.best_score_)"
   ]
  },
  {
   "cell_type": "code",
   "execution_count": 16,
   "metadata": {},
   "outputs": [
    {
     "data": {
      "text/html": [
       "<div>\n",
       "<style scoped>\n",
       "    .dataframe tbody tr th:only-of-type {\n",
       "        vertical-align: middle;\n",
       "    }\n",
       "\n",
       "    .dataframe tbody tr th {\n",
       "        vertical-align: top;\n",
       "    }\n",
       "\n",
       "    .dataframe thead th {\n",
       "        text-align: right;\n",
       "    }\n",
       "</style>\n",
       "<table border=\"1\" class=\"dataframe\">\n",
       "  <thead>\n",
       "    <tr style=\"text-align: right;\">\n",
       "      <th></th>\n",
       "      <th>feature</th>\n",
       "      <th>coefficient</th>\n",
       "      <th>odds ratio</th>\n",
       "    </tr>\n",
       "  </thead>\n",
       "  <tbody>\n",
       "    <tr>\n",
       "      <th>11</th>\n",
       "      <td>ca</td>\n",
       "      <td>4.068932</td>\n",
       "      <td>58.494451</td>\n",
       "    </tr>\n",
       "    <tr>\n",
       "      <th>3</th>\n",
       "      <td>trestbps</td>\n",
       "      <td>2.636319</td>\n",
       "      <td>13.961718</td>\n",
       "    </tr>\n",
       "    <tr>\n",
       "      <th>4</th>\n",
       "      <td>chol</td>\n",
       "      <td>2.342230</td>\n",
       "      <td>10.404412</td>\n",
       "    </tr>\n",
       "    <tr>\n",
       "      <th>12</th>\n",
       "      <td>thal</td>\n",
       "      <td>1.632615</td>\n",
       "      <td>5.117238</td>\n",
       "    </tr>\n",
       "    <tr>\n",
       "      <th>2</th>\n",
       "      <td>cp</td>\n",
       "      <td>1.539012</td>\n",
       "      <td>4.659984</td>\n",
       "    </tr>\n",
       "    <tr>\n",
       "      <th>10</th>\n",
       "      <td>slope</td>\n",
       "      <td>1.530233</td>\n",
       "      <td>4.619251</td>\n",
       "    </tr>\n",
       "    <tr>\n",
       "      <th>1</th>\n",
       "      <td>sex</td>\n",
       "      <td>1.237006</td>\n",
       "      <td>3.445281</td>\n",
       "    </tr>\n",
       "    <tr>\n",
       "      <th>9</th>\n",
       "      <td>oldpeak</td>\n",
       "      <td>1.070091</td>\n",
       "      <td>2.915645</td>\n",
       "    </tr>\n",
       "    <tr>\n",
       "      <th>8</th>\n",
       "      <td>exang</td>\n",
       "      <td>0.790385</td>\n",
       "      <td>2.204245</td>\n",
       "    </tr>\n",
       "    <tr>\n",
       "      <th>6</th>\n",
       "      <td>restecg</td>\n",
       "      <td>0.528976</td>\n",
       "      <td>1.697193</td>\n",
       "    </tr>\n",
       "    <tr>\n",
       "      <th>5</th>\n",
       "      <td>fbs</td>\n",
       "      <td>-0.713666</td>\n",
       "      <td>0.489845</td>\n",
       "    </tr>\n",
       "    <tr>\n",
       "      <th>0</th>\n",
       "      <td>age</td>\n",
       "      <td>-0.808070</td>\n",
       "      <td>0.445717</td>\n",
       "    </tr>\n",
       "    <tr>\n",
       "      <th>7</th>\n",
       "      <td>thalach</td>\n",
       "      <td>-2.127976</td>\n",
       "      <td>0.119078</td>\n",
       "    </tr>\n",
       "  </tbody>\n",
       "</table>\n",
       "</div>"
      ],
      "text/plain": [
       "     feature  coefficient  odds ratio\n",
       "11        ca     4.068932   58.494451\n",
       "3   trestbps     2.636319   13.961718\n",
       "4       chol     2.342230   10.404412\n",
       "12      thal     1.632615    5.117238\n",
       "2         cp     1.539012    4.659984\n",
       "10     slope     1.530233    4.619251\n",
       "1        sex     1.237006    3.445281\n",
       "9    oldpeak     1.070091    2.915645\n",
       "8      exang     0.790385    2.204245\n",
       "6    restecg     0.528976    1.697193\n",
       "5        fbs    -0.713666    0.489845\n",
       "0        age    -0.808070    0.445717\n",
       "7    thalach    -2.127976    0.119078"
      ]
     },
     "metadata": {},
     "output_type": "display_data"
    }
   ],
   "source": [
    "logit_coefs = pd.DataFrame()\n",
    "logit_coefs['feature'] = headers[:-1]\n",
    "logit_coefs['coefficient'] = gs_logit.best_estimator_.coef_.reshape(-1)\n",
    "logit_coefs['odds ratio'] = np.exp(logit_coefs['coefficient'])\n",
    "logit_coefs = logit_coefs.sort_values(by=['odds ratio'], ascending=False)\n",
    "display(logit_coefs)\n",
    "logit_coefs.to_csv('LR_odds_ratios.csv')"
   ]
  },
  {
   "cell_type": "code",
   "execution_count": 17,
   "metadata": {},
   "outputs": [
    {
     "name": "stdout",
     "output_type": "stream",
     "text": [
      "The roc auc in the test set is 0.89 and the accuracy is 0.80\n"
     ]
    }
   ],
   "source": [
    "logit_fpr, logit_tpr, _ = roc_curve(Y_test, gs_logit.predict_proba(X_test_sc)[:,1])\n",
    "logit_roc_auc = auc(logit_fpr, logit_tpr)\n",
    "accuracy = accuracy_score(Y_test, gs_logit.predict(X_test_sc))\n",
    "print(\"The roc auc in the test set is %0.2f and the accuracy is %0.2f\"\n",
    "      %(logit_roc_auc, accuracy))"
   ]
  },
  {
   "cell_type": "code",
   "execution_count": 18,
   "metadata": {},
   "outputs": [
    {
     "data": {
      "image/png": "[encoded data removed]",
      "text/plain": [
       "<Figure size 432x288 with 1 Axes>"
      ]
     },
     "metadata": {
      "needs_background": "light"
     },
     "output_type": "display_data"
    }
   ],
   "source": [
    "# Plotting the graph\n",
    "plt.plot(logit_fpr, logit_tpr, 'b', label = 'AUC = %0.2f' % logit_roc_auc)\n",
    "plt.legend(loc = 'lower right')\n",
    "plt.plot([0, 1], [0, 1],'r--')\n",
    "plt.xlim([0, 1])\n",
    "plt.ylim([0, 1])\n",
    "plt.ylabel('True Positive Rate')\n",
    "plt.xlabel('False Positive Rate')\n",
    "plt.show()"
   ]
  },
  {
   "cell_type": "code",
   "execution_count": 19,
   "metadata": {},
   "outputs": [
    {
     "data": {
      "text/plain": [
       "<matplotlib.axes._subplots.AxesSubplot at 0x27b1a820888>"
      ]
     },
     "execution_count": 19,
     "metadata": {},
     "output_type": "execute_result"
    },
    {
     "data": {
      "image/png": "[encoded data removed]",
      "text/plain": [
       "<Figure size 288x216 with 2 Axes>"
      ]
     },
     "metadata": {
      "needs_background": "light"
     },
     "output_type": "display_data"
    }
   ],
   "source": [
    "# Confusion matrix\n",
    "cf = confusion_matrix(Y_test, gs_logit.predict(X_test_sc))\n",
    "fig = plt.figure(figsize = (4,3))\n",
    "plt.title('Logistic Regression - Confusion Matirx')\n",
    "ax = fig.gca()\n",
    "sn.heatmap(cf, annot=True)"
   ]
  },
  {
   "cell_type": "markdown",
   "metadata": {},
   "source": [
    "### 2. Random Forest"
   ]
  },
  {
   "cell_type": "code",
   "execution_count": 20,
   "metadata": {},
   "outputs": [
    {
     "name": "stdout",
     "output_type": "stream",
     "text": [
      "The train set auc of the best estimator is 0.92\n"
     ]
    }
   ],
   "source": [
    "# For the random forest scaling is not essential thus we'll use the non scaled version of the dataset\n",
    "rf = RandomForestClassifier(random_state=rs)\n",
    "# Try different values of the estimators and max depth\n",
    "params = {'n_estimators': [10, 50, 100, 500, 1000], 'max_depth': [None, 5, 10, 20]}\n",
    "# Score roc_auc or accuracy?\n",
    "gs_rf = GridSearchCV(rf, param_grid=params, scoring='roc_auc', cv=5)\n",
    "gs_rf.fit(X_train, Y_train)\n",
    "print('The train set auc of the best estimator is %0.2f' % gs_rf.best_score_)"
   ]
  },
  {
   "cell_type": "code",
   "execution_count": 21,
   "metadata": {},
   "outputs": [
    {
     "data": {
      "text/html": [
       "<div>\n",
       "<style scoped>\n",
       "    .dataframe tbody tr th:only-of-type {\n",
       "        vertical-align: middle;\n",
       "    }\n",
       "\n",
       "    .dataframe tbody tr th {\n",
       "        vertical-align: top;\n",
       "    }\n",
       "\n",
       "    .dataframe thead th {\n",
       "        text-align: right;\n",
       "    }\n",
       "</style>\n",
       "<table border=\"1\" class=\"dataframe\">\n",
       "  <thead>\n",
       "    <tr style=\"text-align: right;\">\n",
       "      <th></th>\n",
       "      <th>fearure</th>\n",
       "      <th>fearure importance</th>\n",
       "    </tr>\n",
       "  </thead>\n",
       "  <tbody>\n",
       "    <tr>\n",
       "      <th>12</th>\n",
       "      <td>thal</td>\n",
       "      <td>0.176319</td>\n",
       "    </tr>\n",
       "    <tr>\n",
       "      <th>11</th>\n",
       "      <td>ca</td>\n",
       "      <td>0.135903</td>\n",
       "    </tr>\n",
       "    <tr>\n",
       "      <th>2</th>\n",
       "      <td>cp</td>\n",
       "      <td>0.127602</td>\n",
       "    </tr>\n",
       "    <tr>\n",
       "      <th>9</th>\n",
       "      <td>oldpeak</td>\n",
       "      <td>0.106043</td>\n",
       "    </tr>\n",
       "    <tr>\n",
       "      <th>7</th>\n",
       "      <td>thalach</td>\n",
       "      <td>0.102825</td>\n",
       "    </tr>\n",
       "    <tr>\n",
       "      <th>0</th>\n",
       "      <td>age</td>\n",
       "      <td>0.067840</td>\n",
       "    </tr>\n",
       "    <tr>\n",
       "      <th>4</th>\n",
       "      <td>chol</td>\n",
       "      <td>0.064810</td>\n",
       "    </tr>\n",
       "    <tr>\n",
       "      <th>8</th>\n",
       "      <td>exang</td>\n",
       "      <td>0.058855</td>\n",
       "    </tr>\n",
       "    <tr>\n",
       "      <th>3</th>\n",
       "      <td>trestbps</td>\n",
       "      <td>0.056257</td>\n",
       "    </tr>\n",
       "    <tr>\n",
       "      <th>10</th>\n",
       "      <td>slope</td>\n",
       "      <td>0.051026</td>\n",
       "    </tr>\n",
       "    <tr>\n",
       "      <th>1</th>\n",
       "      <td>sex</td>\n",
       "      <td>0.032492</td>\n",
       "    </tr>\n",
       "    <tr>\n",
       "      <th>6</th>\n",
       "      <td>restecg</td>\n",
       "      <td>0.014684</td>\n",
       "    </tr>\n",
       "    <tr>\n",
       "      <th>5</th>\n",
       "      <td>fbs</td>\n",
       "      <td>0.005343</td>\n",
       "    </tr>\n",
       "  </tbody>\n",
       "</table>\n",
       "</div>"
      ],
      "text/plain": [
       "     fearure  fearure importance\n",
       "12      thal            0.176319\n",
       "11        ca            0.135903\n",
       "2         cp            0.127602\n",
       "9    oldpeak            0.106043\n",
       "7    thalach            0.102825\n",
       "0        age            0.067840\n",
       "4       chol            0.064810\n",
       "8      exang            0.058855\n",
       "3   trestbps            0.056257\n",
       "10     slope            0.051026\n",
       "1        sex            0.032492\n",
       "6    restecg            0.014684\n",
       "5        fbs            0.005343"
      ]
     },
     "metadata": {},
     "output_type": "display_data"
    }
   ],
   "source": [
    "rf_feature_importance = pd.DataFrame()\n",
    "rf_feature_importance['fearure'] = headers[:-1]\n",
    "rf_feature_importance['fearure importance'] = gs_rf.best_estimator_.feature_importances_\n",
    "rf_feature_importance = rf_feature_importance.sort_values(by=['fearure importance'], ascending=False)\n",
    "display(rf_feature_importance)\n",
    "rf_feature_importance.to_csv('Random_Forest_FI.csv')"
   ]
  },
  {
   "cell_type": "code",
   "execution_count": 22,
   "metadata": {},
   "outputs": [
    {
     "name": "stdout",
     "output_type": "stream",
     "text": [
      "The roc auc in the test set is 0.89 and the accuracy is 0.77\n"
     ]
    }
   ],
   "source": [
    "rf_fpr, rf_tpr, _ = roc_curve(Y_test, gs_rf.predict_proba(X_test)[:,1])\n",
    "rf_roc_auc = auc(rf_fpr, rf_tpr)\n",
    "accuracy = accuracy_score(Y_test, gs_rf.predict(X_test))\n",
    "print(\"The roc auc in the test set is %0.2f and the accuracy is %0.2f\"\n",
    "      %(rf_roc_auc, accuracy))"
   ]
  },
  {
   "cell_type": "code",
   "execution_count": 23,
   "metadata": {},
   "outputs": [
    {
     "data": {
      "image/png": "[encoded data removed]",
      "text/plain": [
       "<Figure size 432x288 with 1 Axes>"
      ]
     },
     "metadata": {
      "needs_background": "light"
     },
     "output_type": "display_data"
    }
   ],
   "source": [
    "# Plotting the graph\n",
    "plt.plot(rf_fpr, rf_tpr, 'b', label = 'RF AUC = %0.2f' % rf_roc_auc)\n",
    "plt.legend(loc = 'lower right')\n",
    "plt.plot([0, 1], [0, 1],'r--')\n",
    "plt.xlim([0, 1])\n",
    "plt.ylim([0, 1])\n",
    "plt.ylabel('True Positive Rate')\n",
    "plt.xlabel('False Positive Rate')\n",
    "plt.show()"
   ]
  },
  {
   "cell_type": "code",
   "execution_count": 24,
   "metadata": {},
   "outputs": [
    {
     "data": {
      "text/plain": [
       "<matplotlib.axes._subplots.AxesSubplot at 0x27b1a87a448>"
      ]
     },
     "execution_count": 24,
     "metadata": {},
     "output_type": "execute_result"
    },
    {
     "data": {
      "image/png": "[encoded data removed]",
      "text/plain": [
       "<Figure size 288x216 with 2 Axes>"
      ]
     },
     "metadata": {
      "needs_background": "light"
     },
     "output_type": "display_data"
    }
   ],
   "source": [
    "# Confusion matrix\n",
    "cf = confusion_matrix(Y_test, gs_rf.predict(X_test))\n",
    "fig = plt.figure(figsize = (4,3))\n",
    "plt.title('Random Forest - Confusion Matirx')\n",
    "ax = fig.gca()\n",
    "sn.heatmap(cf, annot=True)"
   ]
  },
  {
   "cell_type": "markdown",
   "metadata": {},
   "source": [
    " ### 3. XGBoost"
   ]
  },
  {
   "cell_type": "code",
   "execution_count": 25,
   "metadata": {},
   "outputs": [
    {
     "name": "stdout",
     "output_type": "stream",
     "text": [
      "The train set auc of the best estimator is 0.91\n"
     ]
    }
   ],
   "source": [
    "xgbc = xgb.XGBClassifier()\n",
    "params = {'min_child_weight': [1, 5, 10],\n",
    "          'subsample': [0.6, 0.8, 1.0],\n",
    "          'colsample_bytree': [0.6, 0.8, 1.0],\n",
    "          'max_depth': [3,5,7,10]}\n",
    "# Score roc_auc or accuracy?\n",
    "gs_xgbc = GridSearchCV(xgbc, param_grid=params, scoring='roc_auc', cv=5)\n",
    "gs_xgbc.fit(X_train, Y_train)\n",
    "print('The train set auc of the best estimator is %0.2f' % gs_xgbc.best_score_)"
   ]
  },
  {
   "cell_type": "code",
   "execution_count": 26,
   "metadata": {},
   "outputs": [
    {
     "name": "stdout",
     "output_type": "stream",
     "text": [
      "The roc auc in the test set is 0.88 and the accuracy is 0.80\n"
     ]
    }
   ],
   "source": [
    "xgbc_fpr, xgbc_tpr, _ = roc_curve(Y_test, gs_xgbc.predict_proba(X_test)[:,1])\n",
    "xgbc_roc_auc = auc(xgbc_fpr, xgbc_tpr)\n",
    "accuracy = accuracy_score(Y_test, gs_xgbc.predict(X_test))\n",
    "print(\"The roc auc in the test set is %0.2f and the accuracy is %0.2f\"\n",
    "      %(xgbc_roc_auc, accuracy))"
   ]
  },
  {
   "cell_type": "code",
   "execution_count": 27,
   "metadata": {},
   "outputs": [
    {
     "data": {
      "text/plain": [
       "<matplotlib.axes._subplots.AxesSubplot at 0x27b1aa2e2c8>"
      ]
     },
     "execution_count": 27,
     "metadata": {},
     "output_type": "execute_result"
    },
    {
     "data": {
      "image/png": "[encoded data removed]",
      "text/plain": [
       "<Figure size 288x216 with 2 Axes>"
      ]
     },
     "metadata": {
      "needs_background": "light"
     },
     "output_type": "display_data"
    }
   ],
   "source": [
    "# Confusion matrix\n",
    "cf = confusion_matrix(Y_test, gs_xgbc.predict(X_test))\n",
    "fig = plt.figure(figsize = (4,3))\n",
    "plt.title('XGBoost - Confusion Matirx')\n",
    "ax = fig.gca()\n",
    "sn.heatmap(cf, annot=True)"
   ]
  },
  {
   "cell_type": "code",
   "execution_count": 28,
   "metadata": {},
   "outputs": [
    {
     "data": {
      "text/html": [
       "<div>\n",
       "<style scoped>\n",
       "    .dataframe tbody tr th:only-of-type {\n",
       "        vertical-align: middle;\n",
       "    }\n",
       "\n",
       "    .dataframe tbody tr th {\n",
       "        vertical-align: top;\n",
       "    }\n",
       "\n",
       "    .dataframe thead th {\n",
       "        text-align: right;\n",
       "    }\n",
       "</style>\n",
       "<table border=\"1\" class=\"dataframe\">\n",
       "  <thead>\n",
       "    <tr style=\"text-align: right;\">\n",
       "      <th></th>\n",
       "      <th>fearure</th>\n",
       "      <th>fearure importance</th>\n",
       "    </tr>\n",
       "  </thead>\n",
       "  <tbody>\n",
       "    <tr>\n",
       "      <th>8</th>\n",
       "      <td>exang</td>\n",
       "      <td>0.228893</td>\n",
       "    </tr>\n",
       "    <tr>\n",
       "      <th>11</th>\n",
       "      <td>ca</td>\n",
       "      <td>0.166368</td>\n",
       "    </tr>\n",
       "    <tr>\n",
       "      <th>10</th>\n",
       "      <td>slope</td>\n",
       "      <td>0.127194</td>\n",
       "    </tr>\n",
       "    <tr>\n",
       "      <th>1</th>\n",
       "      <td>sex</td>\n",
       "      <td>0.106116</td>\n",
       "    </tr>\n",
       "    <tr>\n",
       "      <th>12</th>\n",
       "      <td>thal</td>\n",
       "      <td>0.106058</td>\n",
       "    </tr>\n",
       "    <tr>\n",
       "      <th>2</th>\n",
       "      <td>cp</td>\n",
       "      <td>0.104059</td>\n",
       "    </tr>\n",
       "    <tr>\n",
       "      <th>9</th>\n",
       "      <td>oldpeak</td>\n",
       "      <td>0.033756</td>\n",
       "    </tr>\n",
       "    <tr>\n",
       "      <th>7</th>\n",
       "      <td>thalach</td>\n",
       "      <td>0.031583</td>\n",
       "    </tr>\n",
       "    <tr>\n",
       "      <th>0</th>\n",
       "      <td>age</td>\n",
       "      <td>0.025634</td>\n",
       "    </tr>\n",
       "    <tr>\n",
       "      <th>4</th>\n",
       "      <td>chol</td>\n",
       "      <td>0.025613</td>\n",
       "    </tr>\n",
       "    <tr>\n",
       "      <th>6</th>\n",
       "      <td>restecg</td>\n",
       "      <td>0.023212</td>\n",
       "    </tr>\n",
       "    <tr>\n",
       "      <th>3</th>\n",
       "      <td>trestbps</td>\n",
       "      <td>0.021516</td>\n",
       "    </tr>\n",
       "    <tr>\n",
       "      <th>5</th>\n",
       "      <td>fbs</td>\n",
       "      <td>0.000000</td>\n",
       "    </tr>\n",
       "  </tbody>\n",
       "</table>\n",
       "</div>"
      ],
      "text/plain": [
       "     fearure  fearure importance\n",
       "8      exang            0.228893\n",
       "11        ca            0.166368\n",
       "10     slope            0.127194\n",
       "1        sex            0.106116\n",
       "12      thal            0.106058\n",
       "2         cp            0.104059\n",
       "9    oldpeak            0.033756\n",
       "7    thalach            0.031583\n",
       "0        age            0.025634\n",
       "4       chol            0.025613\n",
       "6    restecg            0.023212\n",
       "3   trestbps            0.021516\n",
       "5        fbs            0.000000"
      ]
     },
     "metadata": {},
     "output_type": "display_data"
    }
   ],
   "source": [
    "xgbc_feature_importance = pd.DataFrame()\n",
    "xgbc_feature_importance['fearure'] = headers[:-1]\n",
    "xgbc_feature_importance['fearure importance'] = gs_xgbc.best_estimator_.feature_importances_\n",
    "xgbc_feature_importance = xgbc_feature_importance.sort_values(by=['fearure importance'], ascending=False)\n",
    "display(xgbc_feature_importance)\n",
    "xgbc_feature_importance.to_csv('XGBoost_FI.csv')"
   ]
  },
  {
   "cell_type": "code",
   "execution_count": 29,
   "metadata": {
    "scrolled": true
   },
   "outputs": [
    {
     "data": {
      "image/png": "[encoded data removed]",
      "text/plain": [
       "<Figure size 432x288 with 1 Axes>"
      ]
     },
     "metadata": {
      "needs_background": "light"
     },
     "output_type": "display_data"
    }
   ],
   "source": [
    "# Plotting the graph\n",
    "plt.plot(xgbc_fpr, xgbc_tpr, 'b', label = 'RF AUC = %0.2f' % xgbc_roc_auc)\n",
    "plt.legend(loc = 'lower right')\n",
    "plt.plot([0, 1], [0, 1],'r--')\n",
    "plt.xlim([0, 1])\n",
    "plt.ylim([0, 1])\n",
    "plt.ylabel('True Positive Rate')\n",
    "plt.xlabel('False Positive Rate')\n",
    "plt.show()"
   ]
  },
  {
   "cell_type": "markdown",
   "metadata": {},
   "source": [
    "### All Classiffiers ROC curve"
   ]
  },
  {
   "cell_type": "code",
   "execution_count": 30,
   "metadata": {},
   "outputs": [
    {
     "data": {
      "image/png": "[encoded data removed]",
      "text/plain": [
       "<Figure size 432x288 with 1 Axes>"
      ]
     },
     "metadata": {
      "needs_background": "light"
     },
     "output_type": "display_data"
    }
   ],
   "source": [
    "plt.plot(logit_fpr, logit_tpr, 'g', label = 'Logistic Regression AUC = %0.2f' % logit_roc_auc)\n",
    "plt.plot(rf_fpr, rf_tpr, 'b', label = 'Random Forest AUC = %0.2f' % rf_roc_auc)\n",
    "plt.plot(xgbc_fpr, xgbc_tpr, 'c', label = 'XGBoost AUC = %0.2f' % xgbc_roc_auc)\n",
    "plt.legend(loc = 'lower right')\n",
    "plt.title('ROC curve')\n",
    "plt.plot([0, 1], [0, 1],'r--')\n",
    "plt.xlim([0, 1])\n",
    "plt.ylim([0, 1])\n",
    "plt.ylabel('True Positive Rate')\n",
    "plt.xlabel('False Positive Rate')\n",
    "plt.show()"
   ]
  }
 ],
 "metadata": {
  "kernelspec": {
   "display_name": "ml",
   "language": "python",
   "name": "ml"
  },
  "language_info": {
   "codemirror_mode": {
    "name": "ipython",
    "version": 3
   },
   "file_extension": ".py",
   "mimetype": "text/x-python",
   "name": "python",
   "nbconvert_exporter": "python",
   "pygments_lexer": "ipython3",
   "version": "3.7.7"
  }
 },
 "nbformat": 4,
 "nbformat_minor": 4
}
